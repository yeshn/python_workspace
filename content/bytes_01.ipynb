{
  "metadata": {
    "kernelspec": {
      "name": "python",
      "display_name": "Python (Pyodide)",
      "language": "python"
    },
    "language_info": {
      "codemirror_mode": {
        "name": "python",
        "version": 3
      },
      "file_extension": ".py",
      "mimetype": "text/x-python",
      "name": "python",
      "nbconvert_exporter": "python",
      "pygments_lexer": "ipython3",
      "version": "3.8"
    }
  },
  "nbformat_minor": 4,
  "nbformat": 4,
  "cells": [
    {
      "cell_type": "markdown",
      "source": "# Example #1: HEX TO ASCII",
      "metadata": {}
    },
    {
      "cell_type": "code",
      "source": "# Consider the input argument as a hex and convert to ASCII\n# hex values of 0x22 0x33 0x44 etc have appropriate ASCII symbols / characters\n# This is what you will see in the print statement\n# But for 0x11 0x88 etc, there are no valid ASCII symbols / characters. \n# Hence these are represented as \\x00 \\x11 etc instead\nkey = bytes.fromhex('00112233445566778899AABBCCDDEEFF')\nprint(key)\n\n# You can see that hex values of 0x22 0x33 0x44 etc have appropriate ASCII symbols / characters\n# This is what you will see in the print statement\nkey = bytes.fromhex('223344556677')\nprint(key)\n",
      "metadata": {
        "trusted": true
      },
      "outputs": [
        {
          "name": "stdout",
          "text": "b'\\x00\\x11\"3DUfw\\x88\\x99\\xaa\\xbb\\xcc\\xdd\\xee\\xff'\nb'\"3DUfw'\n",
          "output_type": "stream"
        }
      ],
      "execution_count": 2
    }
  ]
}
