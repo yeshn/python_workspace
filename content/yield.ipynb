{
  "metadata": {
    "kernelspec": {
      "name": "python",
      "display_name": "Python (Pyodide)",
      "language": "python"
    },
    "language_info": {
      "codemirror_mode": {
        "name": "python",
        "version": 3
      },
      "file_extension": ".py",
      "mimetype": "text/x-python",
      "name": "python",
      "nbconvert_exporter": "python",
      "pygments_lexer": "ipython3",
      "version": "3.8"
    }
  },
  "nbformat_minor": 4,
  "nbformat": 4,
  "cells": [
    {
      "cell_type": "markdown",
      "source": "# yield keyword\n\nhttps://www.simplilearn.com/tutorials/python-tutorial/yield-in-python\n\nThe Yield keyword in Python is similar to a return statement used for returning values or objects in Python. \nHowever, there is a slight difference. \n\nWhen you use a function with a return value, every time you call the function, it starts with a new set of variables. \nIn contrast, if you use a generator function instead of a normal function, the execution will start right from where it left last.\n\nThe yield keyword will convert an expression that is specified along with it to a generator object and return it to the caller. \nHence, if you want to get the values stored inside the generator object, you need to iterate over it.\n\nFunction that contains a yield keyword is known as a generator function. \n",
      "metadata": {}
    },
    {
      "cell_type": "code",
      "source": "",
      "metadata": {
        "trusted": true
      },
      "outputs": [],
      "execution_count": null
    },
    {
      "cell_type": "markdown",
      "source": "## Example #1: Basic",
      "metadata": {}
    },
    {
      "cell_type": "code",
      "source": "def generator():\n\n   yield \"Welcome\"\n\n   yield \"to\"\n\n   yield \"Simplilearn\"\n\ngen_object = generator()\n\nprint(\"-->>>\", type(gen_object))\n\nfor i in gen_object:\n\n   print(i)",
      "metadata": {
        "trusted": true
      },
      "outputs": [
        {
          "name": "stdout",
          "text": "-->>> <class 'generator'>\nWelcome\nto\nSimplilearn\n",
          "output_type": "stream"
        }
      ],
      "execution_count": 2
    },
    {
      "cell_type": "markdown",
      "source": "## Example #2: to generate all possible combinations of an alphabet set up to a maximum length",
      "metadata": {}
    },
    {
      "cell_type": "code",
      "source": "# This function to generate varous combinations of Input String\ndef generate(alphabet, max_len):\n    if max_len <= 0: return\n    for c in alphabet:\n        yield c\n        \n    for c in alphabet:\n        for next in generate(alphabet, max_len-1):\n            yield c + next\n\ngen_object = generate('ab', 2)\n# print(type(gen_object))\nfor i in gen_object:\n   print(i)\n",
      "metadata": {
        "trusted": true
      },
      "outputs": [
        {
          "name": "stdout",
          "text": "a\nb\naa\nab\nba\nbb\n",
          "output_type": "stream"
        }
      ],
      "execution_count": 4
    },
    {
      "cell_type": "code",
      "source": "",
      "metadata": {
        "trusted": true
      },
      "outputs": [
        {
          "name": "stdout",
          "text": "b'\\x00\\x11\"3DUfw\\x88\\x99\\xaa\\xbb\\xcc\\xdd\\xee\\xff'\nb'\"3DUfw'\n",
          "output_type": "stream"
        }
      ],
      "execution_count": 10
    },
    {
      "cell_type": "code",
      "source": "",
      "metadata": {
        "trusted": true
      },
      "outputs": [],
      "execution_count": null
    }
  ]
}
